{
 "cells": [
  {
   "cell_type": "markdown",
   "metadata": {},
   "source": [
    "Hey there! Let's jam! 🎶"
   ]
  },
  {
   "cell_type": "code",
   "execution_count": 2,
   "metadata": {},
   "outputs": [],
   "source": [
    "# Set up the environment\n",
    "import requests\n",
    "import os\n",
    "import string"
   ]
  },
  {
   "cell_type": "code",
   "execution_count": 3,
   "metadata": {},
   "outputs": [],
   "source": [
    "# Define some constants\n",
    "CWD = os.getcwd()\n",
    "LOCATION = os.path.join(CWD, 'MUSIC')\n",
    "\n",
    "# Create the MUSIC directory if it doesn't exist\n",
    "if not os.path.isdir(LOCATION):\n",
    "    os.mkdir(LOCATION)"
   ]
  },
  {
   "cell_type": "code",
   "execution_count": 4,
   "metadata": {},
   "outputs": [],
   "source": [
    "# Function to get YouTube ID from Spotify ID\n",
    "def get_youtube_id(session, id):\n",
    "    LINK = f'https://api.spotifydown.com/getId/{id}'\n",
    "    headers = {\n",
    "        'authority': 'api.spotifydown.com',\n",
    "        'method': 'GET',\n",
    "        'path': f'/getId/{id}',\n",
    "        'origin': 'https://spotifydown.com',\n",
    "        'referer': 'https://spotifydown.com/',\n",
    "        'sec-ch-ua': '\"Not_A Brand\";v=\"99\", \"Google Chrome\";v=\"109\", \"Chromium\";v=\"109\"',\n",
    "        'sec-fetch-mode': 'cors',\n",
    "        'user-agent': 'Mozilla/5.0 (Windows NT 10.0; Win64; x64) AppleWebKit/537.36 (KHTML, like Gecko) Chrome/109.0.0.0 Safari/537.36'\n",
    "    }\n",
    "    response = session.get(url=LINK, headers=headers)\n",
    "    if response.status_code == 200:\n",
    "        data = response.json()\n",
    "        return data\n",
    "    return None"
   ]
  },
  {
   "cell_type": "code",
   "execution_count": 5,
   "metadata": {},
   "outputs": [],
   "source": [
    "# Function to analyze YouTube ID\n",
    "def analyze_youtube_id(session, yt_id):\n",
    "    DL = 'https://corsproxy.io/?https://www.y2mate.com/mates/analyzeV2/ajax'\n",
    "    data = {\n",
    "        'k_query': f'https://www.youtube.com/watch?v={yt_id}',\n",
    "        'k_page': 'home',\n",
    "        'hl': 'en',\n",
    "        'q_auto': 0,\n",
    "    }\n",
    "    headers = {\n",
    "        'authority': 'corsproxy.io',\n",
    "        'method': 'POST',\n",
    "        'path': '/?https://www.y2mate.com/mates/analyzeV2/ajax',\n",
    "        'origin': 'https://spotifydown.com',\n",
    "        'referer': 'https://spotifydown.com/',\n",
    "        'sec-ch-ua': '\"Not_A Brand\";v=\"99\", \"Google Chrome\";v=\"109\", \"Chromium\";v=\"109\"',\n",
    "        'sec-fetch-mode': 'cors',\n",
    "        'user-agent': 'Mozilla/5.0 (Windows NT 10.0; Win64; x64) AppleWebKit/537.36 (KHTML, like Gecko) Chrome/109.0.0.0 Safari/537.36'\n",
    "    }\n",
    "    response = session.post(url=DL, data=data, headers=headers)\n",
    "    if response.status_code == 200:\n",
    "        return response.json()\n",
    "    return None"
   ]
  },
  {
   "cell_type": "code",
   "execution_count": 6,
   "metadata": {},
   "outputs": [],
   "source": [
    "# Function to convert YouTube ID\n",
    "def convert_youtube_id(session, analyze_yt_id, analyze_id):\n",
    "    DL = 'https://corsproxy.io/?https://www.y2mate.com/mates/convertV2/index'\n",
    "    data = {\n",
    "        'vid': analyze_yt_id,\n",
    "        'k': analyze_id,\n",
    "    }\n",
    "    headers = {\n",
    "        'authority': 'corsproxy.io',\n",
    "        'method': 'POST',\n",
    "        'path': '/?https://www.y2mate.com/mates/analyzeV2/ajax',\n",
    "        'origin': 'https://spotifydown.com',\n",
    "        'referer': 'https://spotifydown.com/',\n",
    "        'sec-ch-ua': '\"Not_A Brand\";v=\"99\", \"Google Chrome\";v=\"109\", \"Chromium\";v=\"109\"',\n",
    "        'sec-fetch-mode': 'cors',\n",
    "        'user-agent': 'Mozilla/5.0 (Windows NT 10.0; Win64; x64) AppleWebKit/537.36 (KHTML, like Gecko) Chrome/109.0.0.0 Safari/537.36'\n",
    "    }\n",
    "\n",
    "    response = session.post(url=DL, data=data, headers=headers)\n",
    "    if response.status_code == 200:\n",
    "        return response.json()\n",
    "    return None"
   ]
  },
  {
   "cell_type": "code",
   "execution_count": 7,
   "metadata": {},
   "outputs": [],
   "source": [
    "# Function to get playlist metadata\n",
    "def get_playlist_metadata(session, playlist_id):\n",
    "    URL = f'https://api.spotifydown.com/metadata/playlist/{playlist_id}'\n",
    "    headers = {\n",
    "        'authority': 'api.spotifydown.com',\n",
    "        'method': 'GET',\n",
    "        'path': f'/metadata/playlist/{playlist_id}',\n",
    "        'scheme': 'https',\n",
    "        'origin': 'https://spotifydown.com',\n",
    "        'referer': 'https://spotifydown.com/',\n",
    "        'user-agent': 'Mozilla/5.0 (Windows NT 10.0; Win64; x64) AppleWebKit/537.36 (KHTML, like Gecko) Chrome/111.0.0.0 Safari/537.36',\n",
    "    }\n",
    "    meta_data = session.get(headers=headers, url=URL)\n",
    "    if meta_data.status_code == 200:\n",
    "        return meta_data.json()['title'] + ' - ' + meta_data.json()['artists']\n",
    "    return None"
   ]
  },
  {
   "cell_type": "code",
   "execution_count": 8,
   "metadata": {},
   "outputs": [],
   "source": [
    "# Function to catch errors and download\n",
    "def error_catch(session, song_id):\n",
    "    print('[*] Trying to download...')\n",
    "    headers = {\n",
    "        'authority': 'api.spotifydown.com',\n",
    "        'method': 'GET',\n",
    "        'path': f'/download/{song_id}',\n",
    "        'scheme': 'https',\n",
    "        'origin': 'https://spotifydown.com',\n",
    "        'referer': 'https://spotifydown.com/',\n",
    "        'user-agent': 'Mozilla/5.0 (Windows NT 10.0; Win64; x64) AppleWebKit/537.36 (KHTML, like Gecko) Chrome/111.0.0.0 Safari/537.36',\n",
    "    }\n",
    "    x = session.get(headers=headers, url='https://api.spotifydown.com/download/' + song_id)\n",
    "    if x.status_code == 200:\n",
    "        return x.json()['link']\n",
    "    return None"
   ]
  },
  {
   "cell_type": "markdown",
   "metadata": {},
   "source": [
    "Let's rock!"
   ]
  },
  {
   "cell_type": "code",
   "execution_count": 9,
   "metadata": {},
   "outputs": [
    {
     "name": "stdout",
     "output_type": "stream",
     "text": [
      "[*] SPOTIFY PLAYLIST NAME:  Interstellar Study Music - Anthony Rich\n"
     ]
    }
   ],
   "source": [
    "# Create a session\n",
    "session = requests.Session()\n",
    "\n",
    "# Get the Spotify playlist link\n",
    "SPOTIFY_PLAYLIST_LINK = input('Spotify Link: ')\n",
    "OFFSET_VARIABLE = 0  # <-- Change to start from x number of songs\n",
    "\n",
    "# Get the playlist ID from the Spotify link\n",
    "ID = SPOTIFY_PLAYLIST_LINK.split('/')[-1].split('?si')[0]\n",
    "\n",
    "# Get playlist metadata\n",
    "PlaylistName = get_playlist_metadata(session, ID)\n",
    "\n",
    "print('[*] SPOTIFY PLAYLIST NAME: ', PlaylistName)\n",
    "\n",
    "# Set headers for the playlist link\n",
    "headers = {\n",
    "    'authority': 'api.spotifydown.com',\n",
    "    'method': 'GET',\n",
    "    'path': f'/trackList/playlist/{ID}',\n",
    "    'scheme': 'https',\n",
    "    'accept': '*/*',\n",
    "    'dnt': '1',\n",
    "    'origin': 'https://spotifydown.com',\n",
    "    'referer': 'https://spotifydown.com/',\n",
    "    'sec-ch-ua': '\"Chromium\";v=\"110\", \"Not A(Brand\";v=\"24\", \"Google Chrome\";v=\"110\"',\n",
    "    'sec-ch-ua-mobile': '?0',\n",
    "    'sec-ch-ua-platform': '\"Windows\"',\n",
    "    'sec-fetch-dest': 'empty',\n",
    "    'sec-fetch-mode': 'cors',\n",
    "    'user-agent': 'Mozilla/5.0 (Windows NT 10.0; Win64; x64) AppleWebKit/537.36 (KHTML, like Gecko) Chrome/109.0.0.0 Safari/537.36',\n",
    "}\n"
   ]
  },
  {
   "cell_type": "code",
   "execution_count": 10,
   "metadata": {},
   "outputs": [],
   "source": [
    "# Get the playlist link\n",
    "Playlist_Link = f'https://api.spotifydown.com/trackList/playlist/{ID}'\n",
    "\n",
    "# Set up offset data\n",
    "offset_data = {}\n",
    "offset = OFFSET_VARIABLE\n",
    "page = 0\n",
    "offset_data['offset'] = offset\n",
    "\n",
    "# Get the response from the playlist link\n",
    "response = session.get(url=Playlist_Link, headers=headers, params=offset_data)"
   ]
  },
  {
   "cell_type": "code",
   "execution_count": 11,
   "metadata": {},
   "outputs": [
    {
     "name": "stdout",
     "output_type": "stream",
     "text": [
      "************************* 1/5 *************************\n",
      "[*] Name of Song         :  Day One (Interstellar Theme)\n",
      "[*] Spotify ID of Song   :  4WmB04GBqS4xPMYN9dHgBw\n",
      "[*] Youtube ID of Song   :  UgkvcWx8oXw\n",
      "[*] Trying to download...\n",
      "************************* 2/5 *************************\n",
      "[*] Name of Song         :  No Time for Caution\n",
      "[*] Spotify ID of Song   :  5aaXqH8rgKZxg61HjECldi\n",
      "[*] Youtube ID of Song   :  2o9KfyPqQzY\n",
      "[*] Trying to download...\n",
      "************************* 3/5 *************************\n",
      "[*] Name of Song         :  Cornfield Chase\n",
      "[*] Spotify ID of Song   :  6pWgRkpqVfxnj3WuIcJ7WP\n",
      "[*] Youtube ID of Song   :  7GlsxNI4LVI\n",
      "[*] Trying to download...\n",
      "************************* 4/5 *************************\n",
      "[*] Name of Song         :  S.T.A.Y.\n",
      "[*] Spotify ID of Song   :  6GUq9y0Iy5QrAuPYxTrFp2\n",
      "[*] Youtube ID of Song   :  MU3EOO4fWQo\n",
      "[*] Trying to download...\n",
      "************************* 5/5 *************************\n",
      "[*] Name of Song         :  Interstellar Main Theme - Piano Version\n",
      "[*] Spotify ID of Song   :  7xEX406hnVXC7mDfkts2jc\n",
      "[*] Youtube ID of Song   :  4y33h81phKU\n",
      "[*] Trying to download...\n"
     ]
    }
   ],
   "source": [
    "# Keep rockin'\n",
    "while offset != None:\n",
    "    if response.status_code == 200:\n",
    "        # Get track data\n",
    "        Tdata = response.json()['trackList']\n",
    "        page = response.json()['nextOffset']\n",
    "\n",
    "        # Loop through the tracks\n",
    "        for count, song in enumerate(Tdata):\n",
    "            yt_id = get_youtube_id(session=session, id=song['id'])\n",
    "\n",
    "            # Check if YouTube ID is found\n",
    "            if yt_id is not None:\n",
    "                # Set up the filename\n",
    "                filename = song['title'].translate(str.maketrans('', '', string.punctuation)) + ' - ' + \\\n",
    "                           song['artists'].translate(str.maketrans('', '', string.punctuation)) + '.mp3'\n",
    "\n",
    "                # Display info\n",
    "                print('*' * 25, str(count + 1) + '/' + str(len(Tdata)), '*' * 25)\n",
    "                print('[*] Name of Song         : ', song['title'])\n",
    "                print('[*] Spotify ID of Song   : ', song['id'])\n",
    "                print('[*] Youtube ID of Song   : ', yt_id['id'])\n",
    "\n",
    "                try:\n",
    "                    # Analyze the YouTube ID\n",
    "                    data = analyze_youtube_id(session=session, yt_id=yt_id['id'])\n",
    "\n",
    "                    try:\n",
    "                        # Get the download ID\n",
    "                        DL_ID = data['links']['mp3']['mp3128']['k']\n",
    "\n",
    "                        # Convert the YouTube ID\n",
    "                        DL_DATA = convert_youtube_id(session=session, analyze_yt_id=data['vid'], analyze_id=DL_ID)\n",
    "                        DL_LINK = DL_DATA['dlink']\n",
    "\n",
    "                    except Exception as NoLinkError:\n",
    "                        # Catch me if you can!\n",
    "                        CatchMe = error_catch(session=session, song_id=song['id'])\n",
    "                        if CatchMe is not None:\n",
    "                            DL_LINK = CatchMe\n",
    "\n",
    "                    # Download the link\n",
    "                    if DL_LINK is not None:\n",
    "                        link = session.get(DL_LINK)\n",
    "\n",
    "                        # Create a folder for the playlist\n",
    "                        FolderPath = ''.join(e for e in PlaylistName if e.isalnum() or e in [' ', '_'])\n",
    "                        playlist_folder_path = os.path.join(LOCATION, FolderPath)\n",
    "                        if not os.path.exists(playlist_folder_path):\n",
    "                            os.makedirs(playlist_folder_path)\n",
    "\n",
    "                        # Save the file\n",
    "                        with open(os.path.join(playlist_folder_path, filename), 'wb') as f:\n",
    "                            f.write(link.content)\n",
    "\n",
    "                    else:\n",
    "                        print('[*] No Download Link Found.')\n",
    "\n",
    "                except Exception as error_status:\n",
    "                    print('[*] Error Status Code : ', error_status)\n",
    "\n",
    "            else:\n",
    "                print('[*] No data found for : ', song)\n",
    "\n",
    "    # Check if there's another page\n",
    "    if page != None:\n",
    "        offset_data['offset'] = page\n",
    "        response = session.get(url=Playlist_Link, params=offset_data, headers=headers)\n",
    "    else:\n",
    "        break"
   ]
  },
  {
   "cell_type": "markdown",
   "metadata": {},
   "source": [
    "That's a wrap! 🚀"
   ]
  }
 ],
 "metadata": {
  "kernelspec": {
   "display_name": "Python 3",
   "language": "python",
   "name": "python3"
  },
  "language_info": {
   "codemirror_mode": {
    "name": "ipython",
    "version": 3
   },
   "file_extension": ".py",
   "mimetype": "text/x-python",
   "name": "python",
   "nbconvert_exporter": "python",
   "pygments_lexer": "ipython3",
   "version": "3.10.4"
  }
 },
 "nbformat": 4,
 "nbformat_minor": 2
}
